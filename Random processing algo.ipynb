{
 "cells": [
  {
   "cell_type": "code",
   "execution_count": null,
   "id": "692559a7",
   "metadata": {},
   "outputs": [],
   "source": [
    "import os\n",
    "import numpy as np\n",
    "import pandas as pd\n",
    "#from matplotlib import pyplot as plt\n",
    "import numpy as np  \n",
    "#from skimage.metrics import structural_similarity\n",
    "#from sklearn.cluster import KMeans\n",
    "import random\n",
    "#import openslide\n",
    "import copy\n",
    "\n",
    "#import matplotlib.image"
   ]
  },
  {
   "cell_type": "code",
   "execution_count": null,
   "id": "7a6a3279",
   "metadata": {},
   "outputs": [],
   "source": [
    "# Code for NRB"
   ]
  },
  {
   "cell_type": "code",
   "execution_count": null,
   "id": "83103925",
   "metadata": {},
   "outputs": [],
   "source": [
    "def cossim(Q, K):\n",
    "    K_norm = np.linalg.norm(K, axis=1, keepdims=True)\n",
    "    Q_norm = np.linalg.norm(Q, axis=1, keepdims=True)\n",
    "    QK_norm = Q_norm @ K_norm.T\n",
    "    QK = Q @ K.T\n",
    "\n",
    "    return QK / QK_norm\n",
    "\n",
    "def intersection(lst1, lst2):\n",
    "    lst3 = [value for value in lst1 if value in lst2]\n",
    "    return lst3"
   ]
  },
  {
   "cell_type": "code",
   "execution_count": null,
   "id": "8b79b750",
   "metadata": {},
   "outputs": [],
   "source": [
    "def computeRepresentativeVectors(WSI, tumorLabels, locPts, threshold):    \n",
    "    NRB = np.zeros([1, 1024])\n",
    "    #tumorLabels = []\n",
    "    #locPts = []\n",
    "    \n",
    "    bag = np.load(WSI)\n",
    "    \n",
    "    wsiName = WSI.split(\"/\")[-1].split(\".\")[0]\n",
    "    \n",
    "    #WSILabels = np.load(tumorLabelsPath.format(wsiName))\n",
    "    #locsPoints = np.load(\"./CM16/Ziyu/locs/{}.npy\".format(wsiName))\n",
    "    \n",
    "    while(len(bag) != 0):\n",
    "        randomNo = random.randint(0, len(bag) - 1)\n",
    "        tumorLabels.append(WSILabels[randomNo])\n",
    "        locPts.append(locsPoints[randomNo])\n",
    "        \n",
    "        randomFE = bag[randomNo, :].reshape(1, -1)\n",
    "\n",
    "        bag = np.delete(bag, randomNo, 0)\n",
    "        WSILabels = np.delete(WSILabels, randomNo, 0)\n",
    "        \n",
    "        NRB = np.append(NRB, randomFE, axis = 0)\n",
    "\n",
    "        if (len(bag) > 0):\n",
    "            res = cossim(randomFE, bag)\n",
    "            maxSim = np.max(res)\n",
    "\n",
    "            if (maxSim > threshold):\n",
    "                bag = np.delete(bag, np.argwhere(res > threshold)[:, 1], 0)\n",
    "                WSILabels = np.delete(WSILabels, np.argwhere(res > threshold)[:, 1], 0)\n",
    "                locsPoints = np.delete(locsPoints, np.argwhere(res > threshold)[:, 1], 0)\n",
    "                \n",
    "    return NRB[1:, :], tumorLabels, locPts"
   ]
  },
  {
   "cell_type": "code",
   "execution_count": null,
   "id": "fdab9b50",
   "metadata": {},
   "outputs": [],
   "source": [
    "### Creation of NRB using 0.95 tumor threshold"
   ]
  },
  {
   "cell_type": "code",
   "execution_count": null,
   "id": "05d32917",
   "metadata": {},
   "outputs": [],
   "source": [
    "className = \"normal\"\n",
    "baseDir = \"./CM16/Ziyu/feats/train/{}/\".format(className)\n",
    "\n",
    "for threshold in [0.95]:\n",
    "    tumorLabelsPath = \"./CM16/Ziyu/locs/labels/{}labels.npy\"\n",
    "\n",
    "    labelsArr = {}\n",
    "\n",
    "    for WSI in os.listdir(baseDir):\n",
    "        print(WSI)\n",
    "        NRB, tumorLabels, locs = computeRepresentativeVectors(baseDir + WSI, tumorLabelsPath, threshold)\n",
    "        \n",
    "        np.save(\"./CM16/Ziyu/feats_2_{}/train/{}/{}\".format(threshold, className, WSI), NRB)\n",
    "        if (className != \"normal\"):\n",
    "            np.save(\"./CM16/Ziyu/feats_2_{}/train/{}/{}labels.npy\".format(threshold, className, WSI.split(\".\")[0]), tumorLabels)\n",
    "        np.save(\"./CM16/Ziyu/feats_2_{}/locs/{}\".format(threshold, WSI), locs)\n",
    "        \n",
    "        labelsArr[WSI] = sum(tumorLabels)"
   ]
  }
 ],
 "metadata": {
  "kernelspec": {
   "display_name": "Python 3 (ipykernel)",
   "language": "python",
   "name": "python3"
  },
  "language_info": {
   "codemirror_mode": {
    "name": "ipython",
    "version": 3
   },
   "file_extension": ".py",
   "mimetype": "text/x-python",
   "name": "python",
   "nbconvert_exporter": "python",
   "pygments_lexer": "ipython3",
   "version": "3.10.6"
  }
 },
 "nbformat": 4,
 "nbformat_minor": 5
}
