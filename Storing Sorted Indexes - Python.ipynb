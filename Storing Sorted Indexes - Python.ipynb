{
 "cells": [
  {
   "cell_type": "code",
   "execution_count": 15,
   "id": "7762ddda",
   "metadata": {},
   "outputs": [],
   "source": [
    "import pandas as pd\n",
    "import numpy as np\n",
    "import os"
   ]
  },
  {
   "cell_type": "code",
   "execution_count": 16,
   "id": "cb884ba5",
   "metadata": {},
   "outputs": [],
   "source": [
    "def cossim(Q, K):\n",
    "    K_norm = np.linalg.norm(K, axis=1, keepdims=True)\n",
    "    Q_norm = np.linalg.norm(Q, axis=1, keepdims=True)\n",
    "    QK_norm = Q_norm @ K_norm.T\n",
    "    QK = Q @ K.T\n",
    "\n",
    "    return QK / QK_norm"
   ]
  },
  {
   "cell_type": "code",
   "execution_count": 17,
   "id": "c064419f",
   "metadata": {},
   "outputs": [],
   "source": [
    "def processWSI(WSIName):\n",
    "    keys = np.load(\"./CM16/keys/combined/train_non_redundant.npy\")\n",
    "    print(\"Processing: \", WSIName)\n",
    "    \n",
    "    lst = [[-1, \"max\"], [-5, \"mean_5\"], [-10, \"mean_10\"], [-15, \"mean_15\"], [-20, \"mean_20\"], [-30, \"mean_30\"], [-50, \"mean_50\"], [-100, \"mean_100\"], [-150, \"mean_150\"], [-200, \"mean_200\"], [-250, \"mean_250\"]]\n",
    "    \n",
    "    indexes = [{}, {}, {}, {}, {}, {}, {}, {}, {}, {}, {}]\n",
    "    \n",
    "    q = np.load(\"{}\".format(WSIName))\n",
    "    res = cossim(q, keys)\n",
    "    for ind, pair in enumerate(lst):\n",
    "        indexesDesc = np.argsort(np.mean(np.sort(res, axis = 1)[:,pair[0]:], axis = 1))\n",
    "        np.save(\"./CM16/ssim_cos_sorted_indexes/compareEachFE/{}_{}\".format(pair[1], WSIName.split(\"/\")[-1]), indexesDesc)    "
   ]
  },
  {
   "cell_type": "code",
   "execution_count": null,
   "id": "fee1fd52",
   "metadata": {},
   "outputs": [],
   "source": [
    "from multiprocessing import Pool\n",
    "\n",
    "filePaths = []\n",
    "\n",
    "for st in [\"train\", \"test\"]:\n",
    "    for className in [\"normal\", \"tumor\"]:\n",
    "        baseDir = \"./CM16/CTranspath/cam16CTP/{}/{}/\".format(st, className)\n",
    "        for file in os.listdir(baseDir):\n",
    "            filePaths.append(baseDir + file)\n",
    "\n",
    "if __name__ == '__main__':\n",
    "    with Pool(28) as p:\n",
    "        print(p.map(processWSI, filePaths))"
   ]
  },
  {
   "cell_type": "code",
   "execution_count": 19,
   "id": "4b881845",
   "metadata": {
    "scrolled": true
   },
   "outputs": [],
   "source": [
    "lst = [[-5, \"mean_5\"], [-1, \"max\"], [-10, \"mean_10\"], [-15, \"mean_15\"], [-20, \"mean_20\"], [-30, \"mean_30\"], [-50, \"mean_50\"], [-100, \"mean_100\"], [-150, \"mean_150\"], [-200, \"mean_200\"], [-250, \"mean_250\"]]\n",
    "\n",
    "repPath = \"./CM16/ssim_cos_sorted_indexes/compareEachFE/\"\n",
    "outPath = \"./CM16/ssim_cos_sorted_indexes/CTranspath/CM16/\"\n",
    "\n",
    "for l in lst:\n",
    "    obj = {}\n",
    "    files = [file for file in os.listdir(repPath) if file.startswith(l[1]+\"_\")]\n",
    "    \n",
    "    for f in files:\n",
    "        obj[\"{}\".format(f.split(l[1]+\"_\")[1])] = np.load(\"{}/{}\".format(repPath, f), allow_pickle = True)\n",
    "    np.save(outPath + \"cam16_indexes_dict_CompareEachFE_non_redundant_threshold_0.90_0.80_{}.npy\".format(l[1]), obj, allow_pickle = True)"
   ]
  }
 ],
 "metadata": {
  "kernelspec": {
   "display_name": "Python 3 (ipykernel)",
   "language": "python",
   "name": "python3"
  },
  "language_info": {
   "codemirror_mode": {
    "name": "ipython",
    "version": 3
   },
   "file_extension": ".py",
   "mimetype": "text/x-python",
   "name": "python",
   "nbconvert_exporter": "python",
   "pygments_lexer": "ipython3",
   "version": "3.10.6"
  }
 },
 "nbformat": 4,
 "nbformat_minor": 5
}
